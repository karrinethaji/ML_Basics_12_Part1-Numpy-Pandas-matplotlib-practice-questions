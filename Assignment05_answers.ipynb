{
 "cells": [
  {
   "cell_type": "code",
   "execution_count": 1,
   "metadata": {},
   "outputs": [
    {
     "data": {
      "text/html": [
       "<div>\n",
       "<style scoped>\n",
       "    .dataframe tbody tr th:only-of-type {\n",
       "        vertical-align: middle;\n",
       "    }\n",
       "\n",
       "    .dataframe tbody tr th {\n",
       "        vertical-align: top;\n",
       "    }\n",
       "\n",
       "    .dataframe thead th {\n",
       "        text-align: right;\n",
       "    }\n",
       "</style>\n",
       "<table border=\"1\" class=\"dataframe\">\n",
       "  <thead>\n",
       "    <tr style=\"text-align: right;\">\n",
       "      <th></th>\n",
       "      <th>carat</th>\n",
       "      <th>cut</th>\n",
       "      <th>color</th>\n",
       "      <th>clarity</th>\n",
       "      <th>depth</th>\n",
       "      <th>table</th>\n",
       "      <th>price</th>\n",
       "      <th>x</th>\n",
       "      <th>y</th>\n",
       "      <th>z</th>\n",
       "    </tr>\n",
       "  </thead>\n",
       "  <tbody>\n",
       "    <tr>\n",
       "      <th>0</th>\n",
       "      <td>0.23</td>\n",
       "      <td>Ideal</td>\n",
       "      <td>E</td>\n",
       "      <td>SI2</td>\n",
       "      <td>61.5</td>\n",
       "      <td>55.0</td>\n",
       "      <td>326</td>\n",
       "      <td>3.95</td>\n",
       "      <td>3.98</td>\n",
       "      <td>2.43</td>\n",
       "    </tr>\n",
       "    <tr>\n",
       "      <th>1</th>\n",
       "      <td>0.21</td>\n",
       "      <td>Premium</td>\n",
       "      <td>E</td>\n",
       "      <td>SI1</td>\n",
       "      <td>59.8</td>\n",
       "      <td>61.0</td>\n",
       "      <td>326</td>\n",
       "      <td>3.89</td>\n",
       "      <td>3.84</td>\n",
       "      <td>2.31</td>\n",
       "    </tr>\n",
       "    <tr>\n",
       "      <th>2</th>\n",
       "      <td>0.23</td>\n",
       "      <td>Good</td>\n",
       "      <td>E</td>\n",
       "      <td>VS1</td>\n",
       "      <td>56.9</td>\n",
       "      <td>65.0</td>\n",
       "      <td>327</td>\n",
       "      <td>4.05</td>\n",
       "      <td>4.07</td>\n",
       "      <td>2.31</td>\n",
       "    </tr>\n",
       "    <tr>\n",
       "      <th>3</th>\n",
       "      <td>0.29</td>\n",
       "      <td>Premium</td>\n",
       "      <td>I</td>\n",
       "      <td>VS2</td>\n",
       "      <td>62.4</td>\n",
       "      <td>58.0</td>\n",
       "      <td>334</td>\n",
       "      <td>4.20</td>\n",
       "      <td>4.23</td>\n",
       "      <td>2.63</td>\n",
       "    </tr>\n",
       "    <tr>\n",
       "      <th>4</th>\n",
       "      <td>0.31</td>\n",
       "      <td>Good</td>\n",
       "      <td>J</td>\n",
       "      <td>SI2</td>\n",
       "      <td>63.3</td>\n",
       "      <td>58.0</td>\n",
       "      <td>335</td>\n",
       "      <td>4.34</td>\n",
       "      <td>4.35</td>\n",
       "      <td>2.75</td>\n",
       "    </tr>\n",
       "    <tr>\n",
       "      <th>...</th>\n",
       "      <td>...</td>\n",
       "      <td>...</td>\n",
       "      <td>...</td>\n",
       "      <td>...</td>\n",
       "      <td>...</td>\n",
       "      <td>...</td>\n",
       "      <td>...</td>\n",
       "      <td>...</td>\n",
       "      <td>...</td>\n",
       "      <td>...</td>\n",
       "    </tr>\n",
       "    <tr>\n",
       "      <th>53935</th>\n",
       "      <td>0.72</td>\n",
       "      <td>Ideal</td>\n",
       "      <td>D</td>\n",
       "      <td>SI1</td>\n",
       "      <td>60.8</td>\n",
       "      <td>57.0</td>\n",
       "      <td>2757</td>\n",
       "      <td>5.75</td>\n",
       "      <td>5.76</td>\n",
       "      <td>3.50</td>\n",
       "    </tr>\n",
       "    <tr>\n",
       "      <th>53936</th>\n",
       "      <td>0.72</td>\n",
       "      <td>Good</td>\n",
       "      <td>D</td>\n",
       "      <td>SI1</td>\n",
       "      <td>63.1</td>\n",
       "      <td>55.0</td>\n",
       "      <td>2757</td>\n",
       "      <td>5.69</td>\n",
       "      <td>5.75</td>\n",
       "      <td>3.61</td>\n",
       "    </tr>\n",
       "    <tr>\n",
       "      <th>53937</th>\n",
       "      <td>0.70</td>\n",
       "      <td>Very Good</td>\n",
       "      <td>D</td>\n",
       "      <td>SI1</td>\n",
       "      <td>62.8</td>\n",
       "      <td>60.0</td>\n",
       "      <td>2757</td>\n",
       "      <td>5.66</td>\n",
       "      <td>5.68</td>\n",
       "      <td>3.56</td>\n",
       "    </tr>\n",
       "    <tr>\n",
       "      <th>53938</th>\n",
       "      <td>0.86</td>\n",
       "      <td>Premium</td>\n",
       "      <td>H</td>\n",
       "      <td>SI2</td>\n",
       "      <td>61.0</td>\n",
       "      <td>58.0</td>\n",
       "      <td>2757</td>\n",
       "      <td>6.15</td>\n",
       "      <td>6.12</td>\n",
       "      <td>3.74</td>\n",
       "    </tr>\n",
       "    <tr>\n",
       "      <th>53939</th>\n",
       "      <td>0.75</td>\n",
       "      <td>Ideal</td>\n",
       "      <td>D</td>\n",
       "      <td>SI2</td>\n",
       "      <td>62.2</td>\n",
       "      <td>55.0</td>\n",
       "      <td>2757</td>\n",
       "      <td>5.83</td>\n",
       "      <td>5.87</td>\n",
       "      <td>3.64</td>\n",
       "    </tr>\n",
       "  </tbody>\n",
       "</table>\n",
       "<p>53940 rows × 10 columns</p>\n",
       "</div>"
      ],
      "text/plain": [
       "       carat        cut color clarity  depth  table  price     x     y     z\n",
       "0       0.23      Ideal     E     SI2   61.5   55.0    326  3.95  3.98  2.43\n",
       "1       0.21    Premium     E     SI1   59.8   61.0    326  3.89  3.84  2.31\n",
       "2       0.23       Good     E     VS1   56.9   65.0    327  4.05  4.07  2.31\n",
       "3       0.29    Premium     I     VS2   62.4   58.0    334  4.20  4.23  2.63\n",
       "4       0.31       Good     J     SI2   63.3   58.0    335  4.34  4.35  2.75\n",
       "...      ...        ...   ...     ...    ...    ...    ...   ...   ...   ...\n",
       "53935   0.72      Ideal     D     SI1   60.8   57.0   2757  5.75  5.76  3.50\n",
       "53936   0.72       Good     D     SI1   63.1   55.0   2757  5.69  5.75  3.61\n",
       "53937   0.70  Very Good     D     SI1   62.8   60.0   2757  5.66  5.68  3.56\n",
       "53938   0.86    Premium     H     SI2   61.0   58.0   2757  6.15  6.12  3.74\n",
       "53939   0.75      Ideal     D     SI2   62.2   55.0   2757  5.83  5.87  3.64\n",
       "\n",
       "[53940 rows x 10 columns]"
      ]
     },
     "execution_count": 1,
     "metadata": {},
     "output_type": "execute_result"
    }
   ],
   "source": [
    "import seaborn as sns\n",
    "import pandas as pd\n",
    "\n",
    "# Load the Diamonds dataset from seaborn\n",
    "diamonds_df = sns.load_dataset('diamonds')\n",
    "diamonds_df"
   ]
  },
  {
   "cell_type": "markdown",
   "metadata": {},
   "source": [
    "1. Calculate the average price for each cut of diamonds."
   ]
  },
  {
   "cell_type": "code",
   "execution_count": 2,
   "metadata": {},
   "outputs": [
    {
     "name": "stdout",
     "output_type": "stream",
     "text": [
      "Average price for each cut of diamonds:\n",
      "cut\n",
      "Ideal        3457.541970\n",
      "Premium      4584.257704\n",
      "Very Good    3981.759891\n",
      "Good         3928.864452\n",
      "Fair         4358.757764\n",
      "Name: price, dtype: float64\n"
     ]
    }
   ],
   "source": [
    "average_price_by_cut = diamonds_df.groupby('cut')['price'].mean()\n",
    "print(\"Average price for each cut of diamonds:\")\n",
    "print(average_price_by_cut)"
   ]
  },
  {
   "cell_type": "markdown",
   "metadata": {},
   "source": [
    "2. Find the diamond with the highest carat and display its details, including its cut, color, and clarity.\n"
   ]
  },
  {
   "cell_type": "code",
   "execution_count": 3,
   "metadata": {},
   "outputs": [
    {
     "name": "stdout",
     "output_type": "stream",
     "text": [
      "\n",
      "Diamond with the highest carat:\n",
      "carat       5.01\n",
      "cut         Fair\n",
      "color          J\n",
      "clarity       I1\n",
      "depth       65.5\n",
      "table       59.0\n",
      "price      18018\n",
      "x          10.74\n",
      "y          10.54\n",
      "z           6.98\n",
      "Name: 27415, dtype: object\n"
     ]
    }
   ],
   "source": [
    "highest_carat_diamond = diamonds_df.loc[diamonds_df['carat'].idxmax()]\n",
    "print(\"\\nDiamond with the highest carat:\")\n",
    "print(highest_carat_diamond)"
   ]
  },
  {
   "cell_type": "markdown",
   "metadata": {},
   "source": [
    "3. Create a new DataFrame containing only the diamonds with 'cut' as 'Ideal' and 'color' as 'D'."
   ]
  },
  {
   "cell_type": "code",
   "execution_count": 4,
   "metadata": {},
   "outputs": [
    {
     "name": "stdout",
     "output_type": "stream",
     "text": [
      "\n",
      "DataFrame containing diamonds with 'cut' as 'Ideal' and 'color' as 'D':\n",
      "       carat    cut color clarity  depth  table  price     x     y     z\n",
      "62      0.30  Ideal     D     SI1   62.5   57.0    552  4.29  4.32  2.69\n",
      "63      0.30  Ideal     D     SI1   62.1   56.0    552  4.30  4.33  2.68\n",
      "120     0.71  Ideal     D     SI2   62.3   56.0   2762  5.73  5.69  3.56\n",
      "132     0.71  Ideal     D     SI1   61.9   59.0   2764  5.69  5.72  3.53\n",
      "144     0.71  Ideal     D     SI2   61.6   55.0   2767  5.74  5.76  3.54\n",
      "...      ...    ...   ...     ...    ...    ...    ...   ...   ...   ...\n",
      "53854   0.51  Ideal     D    VVS2   61.7   56.0   2742  5.16  5.14  3.18\n",
      "53855   0.51  Ideal     D    VVS2   61.3   57.0   2742  5.17  5.14  3.16\n",
      "53884   0.81  Ideal     D     SI1   61.5   57.0   2748  6.00  6.03  3.70\n",
      "53935   0.72  Ideal     D     SI1   60.8   57.0   2757  5.75  5.76  3.50\n",
      "53939   0.75  Ideal     D     SI2   62.2   55.0   2757  5.83  5.87  3.64\n",
      "\n",
      "[2834 rows x 10 columns]\n"
     ]
    }
   ],
   "source": [
    "ideal_d_color_diamonds = diamonds_df[(diamonds_df['cut'] == 'Ideal') & (diamonds_df['color'] == 'D')]\n",
    "print(\"\\nDataFrame containing diamonds with 'cut' as 'Ideal' and 'color' as 'D':\")\n",
    "print(ideal_d_color_diamonds)"
   ]
  },
  {
   "cell_type": "markdown",
   "metadata": {},
   "source": [
    "4. Calculate the correlation matrix for 'carat', 'depth', 'table', and 'price' columns."
   ]
  },
  {
   "cell_type": "code",
   "execution_count": 5,
   "metadata": {},
   "outputs": [
    {
     "name": "stdout",
     "output_type": "stream",
     "text": [
      "\n",
      "Correlation matrix:\n",
      "          carat     depth     table     price\n",
      "carat  1.000000  0.028224  0.181618  0.921591\n",
      "depth  0.028224  1.000000 -0.295779 -0.010647\n",
      "table  0.181618 -0.295779  1.000000  0.127134\n",
      "price  0.921591 -0.010647  0.127134  1.000000\n"
     ]
    }
   ],
   "source": [
    "correlation_matrix = diamonds_df[['carat', 'depth', 'table', 'price']].corr()\n",
    "print(\"\\nCorrelation matrix:\")\n",
    "print(correlation_matrix)"
   ]
  },
  {
   "cell_type": "markdown",
   "metadata": {},
   "source": [
    "5. For each clarity grade of diamonds, find the mean, median, minimum, and maximum 'carat'."
   ]
  },
  {
   "cell_type": "code",
   "execution_count": 6,
   "metadata": {},
   "outputs": [
    {
     "name": "stdout",
     "output_type": "stream",
     "text": [
      "\n",
      "Carat statistics for each clarity grade of diamonds:\n",
      "             mean  median   min   max\n",
      "clarity                              \n",
      "IF       0.505123    0.35  0.23  2.29\n",
      "VVS1     0.503321    0.39  0.23  2.31\n",
      "VVS2     0.596202    0.44  0.23  2.07\n",
      "VS1      0.727158    0.57  0.23  2.59\n",
      "VS2      0.763935    0.63  0.20  3.51\n",
      "SI1      0.850482    0.76  0.21  2.57\n",
      "SI2      1.077648    1.01  0.20  3.04\n",
      "I1       1.283846    1.12  0.30  5.01\n"
     ]
    }
   ],
   "source": [
    "clarity_carat_stats = diamonds_df.groupby('clarity')['carat'].agg(['mean', 'median', 'min', 'max'])\n",
    "print(\"\\nCarat statistics for each clarity grade of diamonds:\")\n",
    "print(clarity_carat_stats)"
   ]
  },
  {
   "cell_type": "markdown",
   "metadata": {},
   "source": [
    "6. Replace any missing values in the 'depth' column with the mean value of that column."
   ]
  },
  {
   "cell_type": "code",
   "execution_count": 7,
   "metadata": {},
   "outputs": [],
   "source": [
    "mean_depth = diamonds_df['depth'].mean()\n",
    "diamonds_df['depth'].fillna(mean_depth, inplace=True)"
   ]
  },
  {
   "cell_type": "markdown",
   "metadata": {},
   "source": [
    "7. Create a new column in the DataFrame called 'volume', which is the product of 'x', 'y', and 'z' columns."
   ]
  },
  {
   "cell_type": "code",
   "execution_count": 8,
   "metadata": {},
   "outputs": [],
   "source": [
    "diamonds_df['volume'] = diamonds_df['x'] * diamonds_df['y'] * diamonds_df['z']"
   ]
  },
  {
   "cell_type": "markdown",
   "metadata": {},
   "source": [
    "8. Group the DataFrame by 'cut' and 'color' and calculate the average price and carat for each group."
   ]
  },
  {
   "cell_type": "code",
   "execution_count": 9,
   "metadata": {},
   "outputs": [
    {
     "name": "stdout",
     "output_type": "stream",
     "text": [
      "\n",
      "Average price and carat for each group (cut and color):\n",
      "                       price     carat\n",
      "cut       color                       \n",
      "Ideal     D      2629.094566  0.565766\n",
      "          E      2597.550090  0.578401\n",
      "          F      3374.939362  0.655829\n",
      "          G      3720.706388  0.700715\n",
      "          H      3889.334831  0.799525\n",
      "          I      4451.970377  0.913029\n",
      "          J      4918.186384  1.063594\n",
      "Premium   D      3631.292576  0.721547\n",
      "          E      3538.914420  0.717745\n",
      "          F      4324.890176  0.827036\n",
      "          G      4500.742134  0.841488\n",
      "          H      5216.706780  1.016449\n",
      "          I      5946.180672  1.144937\n",
      "          J      6294.591584  1.293094\n",
      "Very Good D      3470.467284  0.696424\n",
      "          E      3214.652083  0.676317\n",
      "          F      3778.820240  0.740961\n",
      "          G      3872.753806  0.766799\n",
      "          H      4535.390351  0.915948\n",
      "          I      5255.879568  1.046952\n",
      "          J      5103.513274  1.133215\n",
      "Good      D      3405.382175  0.744517\n",
      "          E      3423.644159  0.745134\n",
      "          F      3495.750275  0.775930\n",
      "          G      4123.482204  0.850896\n",
      "          H      4276.254986  0.914729\n",
      "          I      5078.532567  1.057222\n",
      "          J      4574.172638  1.099544\n",
      "Fair      D      4291.061350  0.920123\n",
      "          E      3682.312500  0.856607\n",
      "          F      3827.003205  0.904712\n",
      "          G      4239.254777  1.023822\n",
      "          H      5135.683168  1.219175\n",
      "          I      4685.445714  1.198057\n",
      "          J      4975.655462  1.341176\n"
     ]
    }
   ],
   "source": [
    "grouped_stats = diamonds_df.groupby(['cut', 'color']).agg({'price': 'mean', 'carat': 'mean'})\n",
    "print(\"\\nAverage price and carat for each group (cut and color):\")\n",
    "print(grouped_stats)"
   ]
  },
  {
   "cell_type": "markdown",
   "metadata": {},
   "source": [
    "9. Calculate the total count of diamonds for each 'cut' and 'clarity' combination."
   ]
  },
  {
   "cell_type": "code",
   "execution_count": 10,
   "metadata": {},
   "outputs": [
    {
     "name": "stdout",
     "output_type": "stream",
     "text": [
      "\n",
      "Total count of diamonds for each 'cut' and 'clarity' combination:\n",
      "          cut clarity  count\n",
      "0       Ideal      IF   1212\n",
      "1       Ideal    VVS1   2047\n",
      "2       Ideal    VVS2   2606\n",
      "3       Ideal     VS1   3589\n",
      "4       Ideal     VS2   5071\n",
      "5       Ideal     SI1   4282\n",
      "6       Ideal     SI2   2598\n",
      "7       Ideal      I1    146\n",
      "8     Premium      IF    230\n",
      "9     Premium    VVS1    616\n",
      "10    Premium    VVS2    870\n",
      "11    Premium     VS1   1989\n",
      "12    Premium     VS2   3357\n",
      "13    Premium     SI1   3575\n",
      "14    Premium     SI2   2949\n",
      "15    Premium      I1    205\n",
      "16  Very Good      IF    268\n",
      "17  Very Good    VVS1    789\n",
      "18  Very Good    VVS2   1235\n",
      "19  Very Good     VS1   1775\n",
      "20  Very Good     VS2   2591\n",
      "21  Very Good     SI1   3240\n",
      "22  Very Good     SI2   2100\n",
      "23  Very Good      I1     84\n",
      "24       Good      IF     71\n",
      "25       Good    VVS1    186\n",
      "26       Good    VVS2    286\n",
      "27       Good     VS1    648\n",
      "28       Good     VS2    978\n",
      "29       Good     SI1   1560\n",
      "30       Good     SI2   1081\n",
      "31       Good      I1     96\n",
      "32       Fair      IF      9\n",
      "33       Fair    VVS1     17\n",
      "34       Fair    VVS2     69\n",
      "35       Fair     VS1    170\n",
      "36       Fair     VS2    261\n",
      "37       Fair     SI1    408\n",
      "38       Fair     SI2    466\n",
      "39       Fair      I1    210\n"
     ]
    }
   ],
   "source": [
    "diamonds_count_by_cut_clarity = diamonds_df.groupby(['cut', 'clarity']).size().reset_index(name='count')\n",
    "print(\"\\nTotal count of diamonds for each 'cut' and 'clarity' combination:\")\n",
    "print(diamonds_count_by_cut_clarity)"
   ]
  }
 ],
 "metadata": {
  "kernelspec": {
   "display_name": "base",
   "language": "python",
   "name": "python3"
  },
  "language_info": {
   "codemirror_mode": {
    "name": "ipython",
    "version": 3
   },
   "file_extension": ".py",
   "mimetype": "text/x-python",
   "name": "python",
   "nbconvert_exporter": "python",
   "pygments_lexer": "ipython3",
   "version": "3.10.9"
  },
  "orig_nbformat": 4
 },
 "nbformat": 4,
 "nbformat_minor": 2
}

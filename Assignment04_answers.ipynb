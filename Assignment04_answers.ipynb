{
 "cells": [
  {
   "cell_type": "code",
   "execution_count": 2,
   "metadata": {},
   "outputs": [],
   "source": [
    "import seaborn as sns\n",
    "import pandas as pd\n",
    "\n",
    "# Load the Penguins dataset from seaborn\n",
    "penguins_df = sns.load_dataset('penguins')"
   ]
  },
  {
   "cell_type": "markdown",
   "metadata": {},
   "source": [
    "1. Display the first 5 rows."
   ]
  },
  {
   "cell_type": "code",
   "execution_count": 3,
   "metadata": {},
   "outputs": [
    {
     "name": "stdout",
     "output_type": "stream",
     "text": [
      "First 5 rows of the Penguins dataset:\n",
      "  species     island  bill_length_mm  bill_depth_mm  flipper_length_mm  \\\n",
      "0  Adelie  Torgersen            39.1           18.7              181.0   \n",
      "1  Adelie  Torgersen            39.5           17.4              186.0   \n",
      "2  Adelie  Torgersen            40.3           18.0              195.0   \n",
      "3  Adelie  Torgersen             NaN            NaN                NaN   \n",
      "4  Adelie  Torgersen            36.7           19.3              193.0   \n",
      "\n",
      "   body_mass_g     sex  \n",
      "0       3750.0    Male  \n",
      "1       3800.0  Female  \n",
      "2       3250.0  Female  \n",
      "3          NaN     NaN  \n",
      "4       3450.0  Female  \n"
     ]
    }
   ],
   "source": [
    "print(\"First 5 rows of the Penguins dataset:\")\n",
    "print(penguins_df.head())"
   ]
  },
  {
   "cell_type": "markdown",
   "metadata": {},
   "source": [
    "2. Calculate the average 'bill_length_mm' for each species of penguins."
   ]
  },
  {
   "cell_type": "code",
   "execution_count": 4,
   "metadata": {},
   "outputs": [
    {
     "name": "stdout",
     "output_type": "stream",
     "text": [
      "\n",
      "Average 'bill_length_mm' for each species of penguins:\n",
      "species\n",
      "Adelie       38.791391\n",
      "Chinstrap    48.833824\n",
      "Gentoo       47.504878\n",
      "Name: bill_length_mm, dtype: float64\n"
     ]
    }
   ],
   "source": [
    "average_bill_length_by_species = penguins_df.groupby('species')['bill_length_mm'].mean()\n",
    "print(\"\\nAverage 'bill_length_mm' for each species of penguins:\")\n",
    "print(average_bill_length_by_species)"
   ]
  },
  {
   "cell_type": "markdown",
   "metadata": {},
   "source": [
    "3. Find the penguin with the highest 'body_mass_g' and display its species and other information."
   ]
  },
  {
   "cell_type": "code",
   "execution_count": 5,
   "metadata": {},
   "outputs": [
    {
     "name": "stdout",
     "output_type": "stream",
     "text": [
      "\n",
      "Penguin with the highest 'body_mass_g':\n",
      "species              Gentoo\n",
      "island               Biscoe\n",
      "bill_length_mm         49.2\n",
      "bill_depth_mm          15.2\n",
      "flipper_length_mm     221.0\n",
      "body_mass_g          6300.0\n",
      "sex                    Male\n",
      "Name: 237, dtype: object\n"
     ]
    }
   ],
   "source": [
    "highest_body_mass_penguin = penguins_df.loc[penguins_df['body_mass_g'].idxmax()]\n",
    "print(\"\\nPenguin with the highest 'body_mass_g':\")\n",
    "print(highest_body_mass_penguin)"
   ]
  },
  {
   "cell_type": "markdown",
   "metadata": {},
   "source": [
    "4. Create a new DataFrame containing only the penguins with 'sex' as 'MALE' and 'island' as 'Torgersen'."
   ]
  },
  {
   "cell_type": "code",
   "execution_count": 6,
   "metadata": {},
   "outputs": [
    {
     "name": "stdout",
     "output_type": "stream",
     "text": [
      "\n",
      "DataFrame containing penguins with 'sex' as 'MALE' and 'island' as 'Torgersen':\n",
      "Empty DataFrame\n",
      "Columns: [species, island, bill_length_mm, bill_depth_mm, flipper_length_mm, body_mass_g, sex]\n",
      "Index: []\n"
     ]
    }
   ],
   "source": [
    "male_torgersen_penguins = penguins_df[(penguins_df['sex'] == 'MALE') & (penguins_df['island'] == 'Torgersen')]\n",
    "print(\"\\nDataFrame containing penguins with 'sex' as 'MALE' and 'island' as 'Torgersen':\")\n",
    "print(male_torgersen_penguins)"
   ]
  },
  {
   "cell_type": "markdown",
   "metadata": {},
   "source": [
    "5. Calculate the correlation matrix for 'bill_length_mm', 'bill_depth_mm', 'flipper_length_mm', and 'body_mass_g'."
   ]
  },
  {
   "cell_type": "code",
   "execution_count": 7,
   "metadata": {},
   "outputs": [
    {
     "name": "stdout",
     "output_type": "stream",
     "text": [
      "\n",
      "Correlation matrix:\n",
      "                   bill_length_mm  bill_depth_mm  flipper_length_mm  \\\n",
      "bill_length_mm           1.000000      -0.235053           0.656181   \n",
      "bill_depth_mm           -0.235053       1.000000          -0.583851   \n",
      "flipper_length_mm        0.656181      -0.583851           1.000000   \n",
      "body_mass_g              0.595110      -0.471916           0.871202   \n",
      "\n",
      "                   body_mass_g  \n",
      "bill_length_mm        0.595110  \n",
      "bill_depth_mm        -0.471916  \n",
      "flipper_length_mm     0.871202  \n",
      "body_mass_g           1.000000  \n"
     ]
    }
   ],
   "source": [
    "correlation_matrix = penguins_df[['bill_length_mm', 'bill_depth_mm', 'flipper_length_mm', 'body_mass_g']].corr()\n",
    "print(\"\\nCorrelation matrix:\")\n",
    "print(correlation_matrix)"
   ]
  },
  {
   "cell_type": "markdown",
   "metadata": {},
   "source": [
    "6. For each species of penguins, find the mean, median, minimum, and maximum 'body_mass_g'."
   ]
  },
  {
   "cell_type": "code",
   "execution_count": 8,
   "metadata": {},
   "outputs": [
    {
     "name": "stdout",
     "output_type": "stream",
     "text": [
      "\n",
      "Body mass statistics for each species of penguins:\n",
      "                  mean  median     min     max\n",
      "species                                       \n",
      "Adelie     3700.662252  3700.0  2850.0  4775.0\n",
      "Chinstrap  3733.088235  3700.0  2700.0  4800.0\n",
      "Gentoo     5076.016260  5000.0  3950.0  6300.0\n"
     ]
    }
   ],
   "source": [
    "species_body_mass_stats = penguins_df.groupby('species')['body_mass_g'].agg(['mean', 'median', 'min', 'max'])\n",
    "print(\"\\nBody mass statistics for each species of penguins:\")\n",
    "print(species_body_mass_stats)"
   ]
  },
  {
   "cell_type": "markdown",
   "metadata": {},
   "source": [
    "7. Replace any missing values in the 'sex' column with the most frequent value in that column."
   ]
  },
  {
   "cell_type": "code",
   "execution_count": 9,
   "metadata": {},
   "outputs": [],
   "source": [
    "most_frequent_sex = penguins_df['sex'].mode().iloc[0]\n",
    "penguins_df['sex'].fillna(most_frequent_sex, inplace=True)"
   ]
  },
  {
   "cell_type": "markdown",
   "metadata": {},
   "source": [
    "8. Create a new column in the DataFrame called 'bill_area', which is the product of 'bill_length_mm' and 'bill_depth_mm'."
   ]
  },
  {
   "cell_type": "code",
   "execution_count": 10,
   "metadata": {},
   "outputs": [],
   "source": [
    "penguins_df['bill_area'] = penguins_df['bill_length_mm'] * penguins_df['bill_depth_mm']"
   ]
  },
  {
   "cell_type": "markdown",
   "metadata": {},
   "source": [
    "9. Group the DataFrame by 'species' and calculate the average 'body_mass_g' and 'flipper_length_mm' for each species."
   ]
  },
  {
   "cell_type": "code",
   "execution_count": 11,
   "metadata": {},
   "outputs": [
    {
     "name": "stdout",
     "output_type": "stream",
     "text": [
      "\n",
      "Average 'body_mass_g' and 'flipper_length_mm' for each species:\n",
      "           body_mass_g  flipper_length_mm\n",
      "species                                  \n",
      "Adelie     3700.662252         189.953642\n",
      "Chinstrap  3733.088235         195.823529\n",
      "Gentoo     5076.016260         217.186992\n"
     ]
    }
   ],
   "source": [
    "species_grouped_stats = penguins_df.groupby('species').agg({'body_mass_g': 'mean', 'flipper_length_mm': 'mean'})\n",
    "print(\"\\nAverage 'body_mass_g' and 'flipper_length_mm' for each species:\")\n",
    "print(species_grouped_stats)"
   ]
  },
  {
   "cell_type": "markdown",
   "metadata": {},
   "source": [
    "10. Calculate the total count of penguins for each 'island' and 'sex' combination."
   ]
  },
  {
   "cell_type": "code",
   "execution_count": 12,
   "metadata": {},
   "outputs": [
    {
     "name": "stdout",
     "output_type": "stream",
     "text": [
      "\n",
      "Total count of penguins for each 'island' and 'sex' combination:\n",
      "      island     sex  count\n",
      "0     Biscoe  Female     80\n",
      "1     Biscoe    Male     88\n",
      "2      Dream  Female     61\n",
      "3      Dream    Male     63\n",
      "4  Torgersen  Female     24\n",
      "5  Torgersen    Male     28\n"
     ]
    }
   ],
   "source": [
    "penguins_count_by_island_sex = penguins_df.groupby(['island', 'sex']).size().reset_index(name='count')\n",
    "print(\"\\nTotal count of penguins for each 'island' and 'sex' combination:\")\n",
    "print(penguins_count_by_island_sex)"
   ]
  }
 ],
 "metadata": {
  "kernelspec": {
   "display_name": "base",
   "language": "python",
   "name": "python3"
  },
  "language_info": {
   "codemirror_mode": {
    "name": "ipython",
    "version": 3
   },
   "file_extension": ".py",
   "mimetype": "text/x-python",
   "name": "python",
   "nbconvert_exporter": "python",
   "pygments_lexer": "ipython3",
   "version": "3.10.9"
  },
  "orig_nbformat": 4
 },
 "nbformat": 4,
 "nbformat_minor": 2
}

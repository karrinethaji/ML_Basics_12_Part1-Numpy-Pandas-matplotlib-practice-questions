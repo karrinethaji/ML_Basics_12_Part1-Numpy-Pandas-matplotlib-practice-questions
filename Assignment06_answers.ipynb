{
 "cells": [
  {
   "cell_type": "markdown",
   "metadata": {},
   "source": [
    "**Here use the dataset: \"Assignment01.csv\" for the given task. Load the dataset in a pandas DataFrame and apply the following task:**"
   ]
  },
  {
   "cell_type": "code",
   "execution_count": 20,
   "metadata": {},
   "outputs": [],
   "source": [
    "import pandas as pd\n",
    "import numpy as np"
   ]
  },
  {
   "cell_type": "code",
   "execution_count": 21,
   "metadata": {},
   "outputs": [
    {
     "data": {
      "text/html": [
       "<div>\n",
       "<style scoped>\n",
       "    .dataframe tbody tr th:only-of-type {\n",
       "        vertical-align: middle;\n",
       "    }\n",
       "\n",
       "    .dataframe tbody tr th {\n",
       "        vertical-align: top;\n",
       "    }\n",
       "\n",
       "    .dataframe thead th {\n",
       "        text-align: right;\n",
       "    }\n",
       "</style>\n",
       "<table border=\"1\" class=\"dataframe\">\n",
       "  <thead>\n",
       "    <tr style=\"text-align: right;\">\n",
       "      <th></th>\n",
       "      <th>anzsic06</th>\n",
       "      <th>Area</th>\n",
       "      <th>year</th>\n",
       "      <th>geo_count</th>\n",
       "      <th>ec_count</th>\n",
       "    </tr>\n",
       "  </thead>\n",
       "  <tbody>\n",
       "    <tr>\n",
       "      <th>0</th>\n",
       "      <td>A</td>\n",
       "      <td>A100100</td>\n",
       "      <td>2022</td>\n",
       "      <td>93</td>\n",
       "      <td>190</td>\n",
       "    </tr>\n",
       "    <tr>\n",
       "      <th>1</th>\n",
       "      <td>A</td>\n",
       "      <td>A100200</td>\n",
       "      <td>2022</td>\n",
       "      <td>138</td>\n",
       "      <td>190</td>\n",
       "    </tr>\n",
       "    <tr>\n",
       "      <th>2</th>\n",
       "      <td>A</td>\n",
       "      <td>A100300</td>\n",
       "      <td>2022</td>\n",
       "      <td>6</td>\n",
       "      <td>25</td>\n",
       "    </tr>\n",
       "    <tr>\n",
       "      <th>3</th>\n",
       "      <td>A</td>\n",
       "      <td>A100400</td>\n",
       "      <td>2022</td>\n",
       "      <td>57</td>\n",
       "      <td>50</td>\n",
       "    </tr>\n",
       "    <tr>\n",
       "      <th>4</th>\n",
       "      <td>A</td>\n",
       "      <td>A100500</td>\n",
       "      <td>2022</td>\n",
       "      <td>57</td>\n",
       "      <td>95</td>\n",
       "    </tr>\n",
       "  </tbody>\n",
       "</table>\n",
       "</div>"
      ],
      "text/plain": [
       "  anzsic06     Area  year  geo_count  ec_count\n",
       "0        A  A100100  2022         93       190\n",
       "1        A  A100200  2022        138       190\n",
       "2        A  A100300  2022          6        25\n",
       "3        A  A100400  2022         57        50\n",
       "4        A  A100500  2022         57        95"
      ]
     },
     "execution_count": 21,
     "metadata": {},
     "output_type": "execute_result"
    }
   ],
   "source": [
    "df = pd.read_csv(\"Datasets\\Assignment06.csv\")\n",
    "df.head()"
   ]
  },
  {
   "cell_type": "markdown",
   "metadata": {},
   "source": [
    "### **Task-1**:\n",
    "\n",
    "Here, the **Area** column is having the data in mixed format of `alphabetical` and `int` characters. You need to remove the last two zeros out of the data present in the column.\n",
    "\n",
    "As you can see in the first record the 'Area' column is A100100 after conversion it will look like this: A1001"
   ]
  },
  {
   "cell_type": "code",
   "execution_count": 22,
   "metadata": {},
   "outputs": [],
   "source": [
    "import re"
   ]
  },
  {
   "cell_type": "code",
   "execution_count": 23,
   "metadata": {},
   "outputs": [
    {
     "data": {
      "text/html": [
       "<div>\n",
       "<style scoped>\n",
       "    .dataframe tbody tr th:only-of-type {\n",
       "        vertical-align: middle;\n",
       "    }\n",
       "\n",
       "    .dataframe tbody tr th {\n",
       "        vertical-align: top;\n",
       "    }\n",
       "\n",
       "    .dataframe thead th {\n",
       "        text-align: right;\n",
       "    }\n",
       "</style>\n",
       "<table border=\"1\" class=\"dataframe\">\n",
       "  <thead>\n",
       "    <tr style=\"text-align: right;\">\n",
       "      <th></th>\n",
       "      <th>anzsic06</th>\n",
       "      <th>Area</th>\n",
       "      <th>year</th>\n",
       "      <th>geo_count</th>\n",
       "      <th>ec_count</th>\n",
       "    </tr>\n",
       "  </thead>\n",
       "  <tbody>\n",
       "    <tr>\n",
       "      <th>0</th>\n",
       "      <td>A</td>\n",
       "      <td>A1001</td>\n",
       "      <td>2022</td>\n",
       "      <td>93</td>\n",
       "      <td>190</td>\n",
       "    </tr>\n",
       "    <tr>\n",
       "      <th>1</th>\n",
       "      <td>A</td>\n",
       "      <td>A1002</td>\n",
       "      <td>2022</td>\n",
       "      <td>138</td>\n",
       "      <td>190</td>\n",
       "    </tr>\n",
       "    <tr>\n",
       "      <th>2</th>\n",
       "      <td>A</td>\n",
       "      <td>A1003</td>\n",
       "      <td>2022</td>\n",
       "      <td>6</td>\n",
       "      <td>25</td>\n",
       "    </tr>\n",
       "    <tr>\n",
       "      <th>3</th>\n",
       "      <td>A</td>\n",
       "      <td>A1004</td>\n",
       "      <td>2022</td>\n",
       "      <td>57</td>\n",
       "      <td>50</td>\n",
       "    </tr>\n",
       "    <tr>\n",
       "      <th>4</th>\n",
       "      <td>A</td>\n",
       "      <td>A1005</td>\n",
       "      <td>2022</td>\n",
       "      <td>57</td>\n",
       "      <td>95</td>\n",
       "    </tr>\n",
       "  </tbody>\n",
       "</table>\n",
       "</div>"
      ],
      "text/plain": [
       "  anzsic06   Area  year  geo_count  ec_count\n",
       "0        A  A1001  2022         93       190\n",
       "1        A  A1002  2022        138       190\n",
       "2        A  A1003  2022          6        25\n",
       "3        A  A1004  2022         57        50\n",
       "4        A  A1005  2022         57        95"
      ]
     },
     "execution_count": 23,
     "metadata": {},
     "output_type": "execute_result"
    }
   ],
   "source": [
    "df['Area'] = [re.sub(r'00$', '', df['Area'][i]) for i in range(0, len(df['Area']))]\n",
    "df.head()"
   ]
  },
  {
   "cell_type": "markdown",
   "metadata": {},
   "source": [
    "### **Task-2:**\n",
    "\n",
    "Here, filter the dataframe for records only for year 2011 in a different dataframe."
   ]
  },
  {
   "cell_type": "code",
   "execution_count": 24,
   "metadata": {},
   "outputs": [],
   "source": [
    "df_2011 = df[df['year'] == 2011]"
   ]
  },
  {
   "cell_type": "code",
   "execution_count": 25,
   "metadata": {},
   "outputs": [
    {
     "data": {
      "text/html": [
       "<div>\n",
       "<style scoped>\n",
       "    .dataframe tbody tr th:only-of-type {\n",
       "        vertical-align: middle;\n",
       "    }\n",
       "\n",
       "    .dataframe tbody tr th {\n",
       "        vertical-align: top;\n",
       "    }\n",
       "\n",
       "    .dataframe thead th {\n",
       "        text-align: right;\n",
       "    }\n",
       "</style>\n",
       "<table border=\"1\" class=\"dataframe\">\n",
       "  <thead>\n",
       "    <tr style=\"text-align: right;\">\n",
       "      <th></th>\n",
       "      <th>anzsic06</th>\n",
       "      <th>Area</th>\n",
       "      <th>year</th>\n",
       "      <th>geo_count</th>\n",
       "      <th>ec_count</th>\n",
       "    </tr>\n",
       "  </thead>\n",
       "  <tbody>\n",
       "    <tr>\n",
       "      <th>2955770</th>\n",
       "      <td>A</td>\n",
       "      <td>A1001</td>\n",
       "      <td>2011</td>\n",
       "      <td>87</td>\n",
       "      <td>200</td>\n",
       "    </tr>\n",
       "    <tr>\n",
       "      <th>2955771</th>\n",
       "      <td>A</td>\n",
       "      <td>A1002</td>\n",
       "      <td>2011</td>\n",
       "      <td>171</td>\n",
       "      <td>130</td>\n",
       "    </tr>\n",
       "    <tr>\n",
       "      <th>2955772</th>\n",
       "      <td>A</td>\n",
       "      <td>A1003</td>\n",
       "      <td>2011</td>\n",
       "      <td>18</td>\n",
       "      <td>15</td>\n",
       "    </tr>\n",
       "    <tr>\n",
       "      <th>2955773</th>\n",
       "      <td>A</td>\n",
       "      <td>A1004</td>\n",
       "      <td>2011</td>\n",
       "      <td>57</td>\n",
       "      <td>35</td>\n",
       "    </tr>\n",
       "    <tr>\n",
       "      <th>2955774</th>\n",
       "      <td>A</td>\n",
       "      <td>A1005</td>\n",
       "      <td>2011</td>\n",
       "      <td>75</td>\n",
       "      <td>140</td>\n",
       "    </tr>\n",
       "  </tbody>\n",
       "</table>\n",
       "</div>"
      ],
      "text/plain": [
       "        anzsic06   Area  year  geo_count  ec_count\n",
       "2955770        A  A1001  2011         87       200\n",
       "2955771        A  A1002  2011        171       130\n",
       "2955772        A  A1003  2011         18        15\n",
       "2955773        A  A1004  2011         57        35\n",
       "2955774        A  A1005  2011         75       140"
      ]
     },
     "execution_count": 25,
     "metadata": {},
     "output_type": "execute_result"
    }
   ],
   "source": [
    "df_2011.head()"
   ]
  },
  {
   "cell_type": "markdown",
   "metadata": {},
   "source": [
    "### **Task-3:**\n",
    "\n",
    "Find the average value of 'geo_count' for the year 2022"
   ]
  },
  {
   "cell_type": "code",
   "execution_count": 26,
   "metadata": {},
   "outputs": [
    {
     "name": "stdout",
     "output_type": "stream",
     "text": [
      "51.17025270603518\n"
     ]
    }
   ],
   "source": [
    "avg_geo_count_2022 = df[df['year'] == 2022]['geo_count'].mean()\n",
    "print(avg_geo_count_2022)"
   ]
  },
  {
   "cell_type": "markdown",
   "metadata": {},
   "source": [
    "### **Task-4:**\n",
    "\n",
    "Find the net average of 'ec_count' for year 2010,2011,2012."
   ]
  },
  {
   "cell_type": "code",
   "execution_count": 27,
   "metadata": {},
   "outputs": [
    {
     "name": "stdout",
     "output_type": "stream",
     "text": [
      "166.9477712373023\n"
     ]
    }
   ],
   "source": [
    "avg_geo_count_10_11_12 = df[(df['year'] == 2010) | (df['year'] == 2011) | (df['year'] == 2012)]['ec_count'].mean()\n",
    "print(avg_geo_count_10_11_12)"
   ]
  },
  {
   "cell_type": "markdown",
   "metadata": {},
   "source": [
    "### **Task-5:**\n",
    "\n",
    "Plot KDE distribution of 'ec_count', for anzsic06 is F371."
   ]
  },
  {
   "cell_type": "code",
   "execution_count": 28,
   "metadata": {},
   "outputs": [
    {
     "name": "stderr",
     "output_type": "stream",
     "text": [
      "C:\\Users\\KUSHAL\\AppData\\Local\\Temp\\ipykernel_19540\\3696149154.py:6: FutureWarning: \n",
      "\n",
      "`shade` is now deprecated in favor of `fill`; setting `fill=True`.\n",
      "This will become an error in seaborn v0.14.0; please update your code.\n",
      "\n",
      "  sns.kdeplot(data = df_F371['ec_count'], shade =True)\n"
     ]
    },
    {
     "data": {
      "text/plain": [
       "Text(0.5, 1.0, 'Kernel Density Estimation (KDE) Plot')"
      ]
     },
     "execution_count": 28,
     "metadata": {},
     "output_type": "execute_result"
    },
    {
     "data": {
      "image/png": "[encoded data removed]",
      "text/plain": [
       "<Figure size 640x480 with 1 Axes>"
      ]
     },
     "metadata": {},
     "output_type": "display_data"
    }
   ],
   "source": [
    "df_F371 = df[df['anzsic06'] == 'F371']\n",
    "\n",
    "import matplotlib.pyplot as plt\n",
    "import seaborn as sns\n",
    "\n",
    "sns.kdeplot(data = df_F371['ec_count'], shade =True)\n",
    "plt.xlabel('ec_count')\n",
    "plt.ylabel('Density')\n",
    "plt.title('Kernel Density Estimation (KDE) Plot')"
   ]
  }
 ],
 "metadata": {
  "kernelspec": {
   "display_name": "Python 3",
   "language": "python",
   "name": "python3"
  },
  "language_info": {
   "codemirror_mode": {
    "name": "ipython",
    "version": 3
   },
   "file_extension": ".py",
   "mimetype": "text/x-python",
   "name": "python",
   "nbconvert_exporter": "python",
   "pygments_lexer": "ipython3",
   "version": "3.10.9"
  },
  "orig_nbformat": 4
 },
 "nbformat": 4,
 "nbformat_minor": 2
}
